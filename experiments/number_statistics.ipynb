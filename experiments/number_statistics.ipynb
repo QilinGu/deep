{
 "cells": [
  {
   "cell_type": "code",
   "execution_count": null,
   "metadata": {
    "collapsed": true,
    "nbpresent": {
     "id": "1bd59db0-297d-4a6e-b4c3-c9cfa380210a"
    }
   },
   "outputs": [],
   "source": [
    "from number_statistics import *\n",
    "import numpy as np\n",
    "%matplotlib inline\n",
    "import matplotlib.pyplot as plt"
   ]
  },
  {
   "cell_type": "markdown",
   "metadata": {},
   "source": [
    "### Shows a histogram of the distribution of followers per user\n",
    "Its purpose is to decide on the type of data structure would be best to use for saving the list of accounts in order"
   ]
  },
  {
   "cell_type": "code",
   "execution_count": null,
   "metadata": {
    "collapsed": false,
    "nbpresent": {
     "id": "a156bffe-40af-435a-a780-9502c1d6ac03"
    },
    "scrolled": false
   },
   "outputs": [],
   "source": [
    "count = count()\n",
    "follows = count.keys() # x\n",
    "frequency = count.values() # y"
   ]
  },
  {
   "cell_type": "code",
   "execution_count": null,
   "metadata": {
    "collapsed": false
   },
   "outputs": [],
   "source": [
    "# Plots a simple histogram showing the frequency of pictures that have a certain number of follows\n",
    "plt.bar(follows, frequency, log=True)\n",
    "plt.xlabel('Number of followers')\n",
    "plt.ylabel('Frequency in dataset')\n"
   ]
  },
  {
   "cell_type": "code",
   "execution_count": null,
   "metadata": {
    "collapsed": false,
    "scrolled": false
   },
   "outputs": [],
   "source": [
    "# Plots a histogram which tells you the distribution of followers based on a certain power\n",
    "# Note: the -1 in the graphs denote 0 followers\n",
    "powers = [2,4,10]\n",
    "\n",
    "for i, power in enumerate(powers, start=1):\n",
    "    count_powers = magnitude_of_scale(count, base=power)\n",
    "    follows = count_powers.keys() # x\n",
    "    frequency = count_powers.values() # y\n",
    "    \n",
    "    plt.figure(i)\n",
    "    plt.bar(follows, frequency, log=True)\n",
    "    xlabel = 'Number of followers %d^n' % power\n",
    "    plt.xlabel(xlabel)\n",
    "    plt.ylabel('Frequency in dataset')\n",
    "plt.show()"
   ]
  }
 ],
 "metadata": {
  "anaconda-cloud": {},
  "kernelspec": {
   "display_name": "Python [Root]",
   "language": "python",
   "name": "Python [Root]"
  },
  "language_info": {
   "codemirror_mode": {
    "name": "ipython",
    "version": 2
   },
   "file_extension": ".py",
   "mimetype": "text/x-python",
   "name": "python",
   "nbconvert_exporter": "python",
   "pygments_lexer": "ipython2",
   "version": "2.7.11"
  }
 },
 "nbformat": 4,
 "nbformat_minor": 0
}
